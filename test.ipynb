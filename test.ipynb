{
 "cells": [
  {
   "cell_type": "code",
   "execution_count": 4,
   "metadata": {},
   "outputs": [],
   "source": [
    "import json\n",
    "import requests\n",
    "import datetime\n",
    "import itertools\n",
    "\n",
    "\n",
    "### WEBUNTIS REQUEST ###\n",
    "\n",
    "url = \"https://ikarus.webuntis.com/WebUntis/api/public/timetable/weekly/data\"\n",
    "\n",
    "querystring = {\"elementType\":\"1\",\"elementId\":\"187\",\"date\":\"2023-02-06\"}\n",
    "\n",
    "payload = \"\"\n",
    "headers = {\n",
    "    \"cookie\": \"schoolname=%22_aGg1ODQ2%22; traceId=dbb69fa1e2dc8af353694414c2035671990c360d; JSESSIONID=4A9A47A4A726D2C56A3464F58F4AC75C\",\n",
    "    \"User-Agent\": \"Mozilla/5.0 (X11; Ubuntu; Linux x86_64; rv:106.0) Gecko/20100101 Firefox/106.0\",\n",
    "    \"Accept\": \"application/json\",\n",
    "    \"Accept-Language\": \"en-US,en;q=0.5\",\n",
    "    \"Accept-Encoding\": \"gzip, deflate, br\",\n",
    "    \"Referer\": \"https://ikarus.webuntis.com/WebUntis/?school=hh5846\",\n",
    "    \"DNT\": \"1\",\n",
    "    \"Connection\": \"keep-alive\",\n",
    "    \"Cookie\": \"traceId=e09d53487ed6066b8abffd29aed5cc75a9a1a4b0; schoolname=\\\"_aGg1ODQ2\\\"; schoolname=\\\"_aGg1ODQ2\\\"; JSESSIONID=B1E7E1D372B14ECCFEE5474DC920600E; schoolname=\\\"_aGg1ODQ2\\\"; traceId=e09d53487ed6066b8abffd29aed5cc75a9a1a4b0\",\n",
    "    \"Sec-Fetch-Dest\": \"empty\",\n",
    "    \"Sec-Fetch-Mode\": \"cors\",\n",
    "    \"Sec-Fetch-Site\": \"same-origin\"\n",
    "}\n",
    "\n",
    "response = requests.request(\"GET\", url, data=payload, headers=headers, params=querystring)\n",
    "\n",
    "with open(\"test_2.json\", \"w\") as f:\n",
    "    f.write(response.text)"
   ]
  }
 ],
 "metadata": {
  "kernelspec": {
   "display_name": "Python 3",
   "language": "python",
   "name": "python3"
  },
  "language_info": {
   "codemirror_mode": {
    "name": "ipython",
    "version": 3
   },
   "file_extension": ".py",
   "mimetype": "text/x-python",
   "name": "python",
   "nbconvert_exporter": "python",
   "pygments_lexer": "ipython3",
   "version": "3.8.10"
  },
  "orig_nbformat": 4,
  "vscode": {
   "interpreter": {
    "hash": "e7370f93d1d0cde622a1f8e1c04877d8463912d04d973331ad4851f04de6915a"
   }
  }
 },
 "nbformat": 4,
 "nbformat_minor": 2
}
