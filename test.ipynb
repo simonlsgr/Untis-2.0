{
 "cells": [
  {
   "cell_type": "code",
   "execution_count": 88,
   "metadata": {},
   "outputs": [],
   "source": [
    "import requests\n",
    "\n",
    "url = \"https://ikarus.webuntis.com/WebUntis/api/public/timetable/weekly/data\"\n",
    "\n",
    "querystring = {\"elementType\":\"1\",\"elementId\":\"475\",\"date\":\"2023-01-27\",\"formatId\":\"1\"}\n",
    "\n",
    "payload = \"\"\n",
    "headers = {\n",
    "    \"cookie\": \"schoolname=%22_aGg1ODQ2%22; traceId=dbb69fa1e2dc8af353694414c2035671990c360d; JSESSIONID=87ED9BE5AC3308DB023655D0369D1E0C\",\n",
    "    \"User-Agent\": \"Mozilla/5.0 (X11; Ubuntu; Linux x86_64; rv:109.0) Gecko/20100101 Firefox/109.0\",\n",
    "    \"Accept\": \"application/json\",\n",
    "    \"Accept-Language\": \"en-US,en;q=0.5\",\n",
    "    \"Accept-Encoding\": \"gzip, deflate, br\",\n",
    "    \"Referer\": \"https://ikarus.webuntis.com/WebUntis/?school=hh5864\",\n",
    "    \"DNT\": \"1\",\n",
    "    \"Connection\": \"keep-alive\",\n",
    "    \"Cookie\": \"traceId=d72a5169beb9e2887493b4952c7c5ecd76ab4a07; traceId=d72a5169beb9e2887493b4952c7c5ecd76ab4a07; schoolname=\\\"_aGg1ODY0\\\"; JSESSIONID=76DB0041438B241D60FBA51EEA87476D; schoolname=\\\"_aGg1ODQ2\\\"; traceId=d72a5169beb9e2887493b4952c7c5ecd76ab4a07\",\n",
    "    \"Sec-Fetch-Dest\": \"empty\",\n",
    "    \"Sec-Fetch-Mode\": \"cors\",\n",
    "    \"Sec-Fetch-Site\": \"same-origin\"\n",
    "}\n",
    "\n",
    "response = requests.request(\"GET\", url, data=payload, headers=headers, params=querystring)\n",
    "\n",
    "# with open('test.json', 'w') as f:\n",
    "#     f.write(response.text)\n",
    "print(response.text)"
   ]
  },
  {
   "cell_type": "code",
   "execution_count": 7,
   "metadata": {},
   "outputs": [
    {
     "ename": "BadCredentialsError",
     "evalue": "Missing config: 'No value for key: username'",
     "output_type": "error",
     "traceback": [
      "\u001b[0;31m---------------------------------------------------------------------------\u001b[0m",
      "\u001b[0;31mKeyError\u001b[0m                                  Traceback (most recent call last)",
      "File \u001b[0;32m~/.local/lib/python3.8/site-packages/webuntis/session.py:87\u001b[0m, in \u001b[0;36mJSONRPCSession.login\u001b[0;34m(self)\u001b[0m\n\u001b[1;32m     86\u001b[0m \u001b[39mtry\u001b[39;00m:\n\u001b[0;32m---> 87\u001b[0m     username \u001b[39m=\u001b[39m \u001b[39mself\u001b[39;49m\u001b[39m.\u001b[39;49mconfig[\u001b[39m'\u001b[39;49m\u001b[39musername\u001b[39;49m\u001b[39m'\u001b[39;49m]\n\u001b[1;32m     88\u001b[0m     password \u001b[39m=\u001b[39m \u001b[39mself\u001b[39m\u001b[39m.\u001b[39mconfig[\u001b[39m'\u001b[39m\u001b[39mpassword\u001b[39m\u001b[39m'\u001b[39m]\n",
      "File \u001b[0;32m~/.local/lib/python3.8/site-packages/webuntis/utils/misc.py:87\u001b[0m, in \u001b[0;36mFilterDict.__getitem__\u001b[0;34m(self, key)\u001b[0m\n\u001b[1;32m     86\u001b[0m \u001b[39melif\u001b[39;00m key \u001b[39min\u001b[39;00m \u001b[39mself\u001b[39m\u001b[39m.\u001b[39mfilters:\n\u001b[0;32m---> 87\u001b[0m     \u001b[39mraise\u001b[39;00m \u001b[39mKeyError\u001b[39;00m(\u001b[39m'\u001b[39m\u001b[39mNo value for key: \u001b[39m\u001b[39m'\u001b[39m \u001b[39m+\u001b[39m key)\n\u001b[1;32m     88\u001b[0m \u001b[39melse\u001b[39;00m:\n",
      "\u001b[0;31mKeyError\u001b[0m: 'No value for key: username'",
      "\nDuring handling of the above exception, another exception occurred:\n",
      "\u001b[0;31mBadCredentialsError\u001b[0m                       Traceback (most recent call last)",
      "Cell \u001b[0;32mIn [7], line 3\u001b[0m\n\u001b[1;32m      1\u001b[0m \u001b[39mimport\u001b[39;00m \u001b[39mwebuntis\u001b[39;00m\n\u001b[0;32m----> 3\u001b[0m \u001b[39mwith\u001b[39;00m webuntis\u001b[39m.\u001b[39;49mSession(\n\u001b[1;32m      4\u001b[0m     server\u001b[39m=\u001b[39;49m\u001b[39m'\u001b[39;49m\u001b[39mhttps://ikarus.webuntis.com\u001b[39;49m\u001b[39m'\u001b[39;49m,\n\u001b[1;32m      5\u001b[0m     school\u001b[39m=\u001b[39;49m\u001b[39m'\u001b[39;49m\u001b[39mhh5846\u001b[39;49m\u001b[39m'\u001b[39;49m,\n\u001b[1;32m      6\u001b[0m     useragent\u001b[39m=\u001b[39;49m\u001b[39m'\u001b[39;49m\u001b[39mWebUntis Test\u001b[39;49m\u001b[39m'\u001b[39;49m)\u001b[39m.\u001b[39;49mlogin() \u001b[39mas\u001b[39;00m s:\n\u001b[1;32m      7\u001b[0m     \u001b[39mfor\u001b[39;00m klasse \u001b[39min\u001b[39;00m s\u001b[39m.\u001b[39mklassen():\n\u001b[1;32m      8\u001b[0m         \u001b[39mprint\u001b[39m(klasse\u001b[39m.\u001b[39mname)\n",
      "File \u001b[0;32m~/.local/lib/python3.8/site-packages/webuntis/session.py:91\u001b[0m, in \u001b[0;36mJSONRPCSession.login\u001b[0;34m(self)\u001b[0m\n\u001b[1;32m     89\u001b[0m     useragent \u001b[39m=\u001b[39m \u001b[39mself\u001b[39m\u001b[39m.\u001b[39mconfig[\u001b[39m'\u001b[39m\u001b[39museragent\u001b[39m\u001b[39m'\u001b[39m]\n\u001b[1;32m     90\u001b[0m \u001b[39mexcept\u001b[39;00m \u001b[39mKeyError\u001b[39;00m \u001b[39mas\u001b[39;00m e:\n\u001b[0;32m---> 91\u001b[0m     \u001b[39mraise\u001b[39;00m errors\u001b[39m.\u001b[39mBadCredentialsError(\u001b[39m'\u001b[39m\u001b[39mMissing config: \u001b[39m\u001b[39m'\u001b[39m \u001b[39m+\u001b[39m \u001b[39mstr\u001b[39m(e))\n\u001b[1;32m     93\u001b[0m res \u001b[39m=\u001b[39m \u001b[39mself\u001b[39m\u001b[39m.\u001b[39m_request(\u001b[39m'\u001b[39m\u001b[39mauthenticate\u001b[39m\u001b[39m'\u001b[39m, {\n\u001b[1;32m     94\u001b[0m     \u001b[39m'\u001b[39m\u001b[39muser\u001b[39m\u001b[39m'\u001b[39m: username,\n\u001b[1;32m     95\u001b[0m     \u001b[39m'\u001b[39m\u001b[39mpassword\u001b[39m\u001b[39m'\u001b[39m: json\u001b[39m.\u001b[39mdumps(password)[\u001b[39m1\u001b[39m:\u001b[39m-\u001b[39m\u001b[39m1\u001b[39m], \u001b[39m### TODO: ????\u001b[39;00m\n\u001b[1;32m     96\u001b[0m     \u001b[39m'\u001b[39m\u001b[39mclient\u001b[39m\u001b[39m'\u001b[39m: useragent\n\u001b[1;32m     97\u001b[0m }, use_login_repeat\u001b[39m=\u001b[39m\u001b[39mFalse\u001b[39;00m)\n\u001b[1;32m     99\u001b[0m \u001b[39mif\u001b[39;00m \u001b[39m'\u001b[39m\u001b[39msessionId\u001b[39m\u001b[39m'\u001b[39m \u001b[39min\u001b[39;00m res:\n",
      "\u001b[0;31mBadCredentialsError\u001b[0m: Missing config: 'No value for key: username'"
     ]
    }
   ],
   "source": [
    "import webuntis\n",
    "\n",
    "with webuntis.Session(username='',\n",
    "    password='',\n",
    "    server='https://ikarus.webuntis.com',\n",
    "    school='hh5846',\n",
    "    useragent='WebUntis Test').login() as s:\n",
    "    for klasse in s.klassen():\n",
    "        print(klasse.name)"
   ]
  }
 ],
 "metadata": {
  "kernelspec": {
   "display_name": "Python 3",
   "language": "python",
   "name": "python3"
  },
  "language_info": {
   "codemirror_mode": {
    "name": "ipython",
    "version": 3
   },
   "file_extension": ".py",
   "mimetype": "text/x-python",
   "name": "python",
   "nbconvert_exporter": "python",
   "pygments_lexer": "ipython3",
   "version": "3.8.10 (default, Nov 14 2022, 12:59:47) \n[GCC 9.4.0]"
  },
  "orig_nbformat": 4,
  "vscode": {
   "interpreter": {
    "hash": "e7370f93d1d0cde622a1f8e1c04877d8463912d04d973331ad4851f04de6915a"
   }
  }
 },
 "nbformat": 4,
 "nbformat_minor": 2
}
