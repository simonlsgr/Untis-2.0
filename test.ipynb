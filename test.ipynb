{
 "cells": [
  {
   "cell_type": "code",
   "execution_count": 88,
   "metadata": {},
   "outputs": [],
   "source": [
    "import requests\n",
    "\n",
    "url = \"https://ikarus.webuntis.com/WebUntis/api/public/timetable/weekly/data\"\n",
    "\n",
    "querystring = {\"elementType\":\"1\",\"elementId\":\"475\",\"date\":\"2023-01-27\",\"formatId\":\"1\"}\n",
    "\n",
    "payload = \"\"\n",
    "headers = {\n",
    "    \"cookie\": \"schoolname=%22_aGg1ODQ2%22; traceId=dbb69fa1e2dc8af353694414c2035671990c360d; JSESSIONID=87ED9BE5AC3308DB023655D0369D1E0C\",\n",
    "    \"User-Agent\": \"Mozilla/5.0 (X11; Ubuntu; Linux x86_64; rv:109.0) Gecko/20100101 Firefox/109.0\",\n",
    "    \"Accept\": \"application/json\",\n",
    "    \"Accept-Language\": \"en-US,en;q=0.5\",\n",
    "    \"Accept-Encoding\": \"gzip, deflate, br\",\n",
    "    \"Referer\": \"https://ikarus.webuntis.com/WebUntis/?school=hh5864\",\n",
    "    \"DNT\": \"1\",\n",
    "    \"Connection\": \"keep-alive\",\n",
    "    \"Cookie\": \"traceId=d72a5169beb9e2887493b4952c7c5ecd76ab4a07; traceId=d72a5169beb9e2887493b4952c7c5ecd76ab4a07; schoolname=\\\"_aGg1ODY0\\\"; JSESSIONID=76DB0041438B241D60FBA51EEA87476D; schoolname=\\\"_aGg1ODQ2\\\"; traceId=d72a5169beb9e2887493b4952c7c5ecd76ab4a07\",\n",
    "    \"Sec-Fetch-Dest\": \"empty\",\n",
    "    \"Sec-Fetch-Mode\": \"cors\",\n",
    "    \"Sec-Fetch-Site\": \"same-origin\"\n",
    "}\n",
    "\n",
    "response = requests.request(\"GET\", url, data=payload, headers=headers, params=querystring)\n",
    "\n",
    "# with open('test.json', 'w') as f:\n",
    "#     f.write(response.text)\n",
    "print(response.text)"
   ]
  },
  {
   "cell_type": "code",
   "execution_count": 114,
   "metadata": {},
   "outputs": [
    {
     "name": "stdout",
     "output_type": "stream",
     "text": [
      "4D453CDCB36243008E11F025F2FC8273\n",
      "\"_aGg1ODQ2\"\n"
     ]
    }
   ],
   "source": [
    "import requests\n",
    "\n",
    "\n"
   ]
  }
 ],
 "metadata": {
  "kernelspec": {
   "display_name": "Python 3",
   "language": "python",
   "name": "python3"
  },
  "language_info": {
   "codemirror_mode": {
    "name": "ipython",
    "version": 3
   },
   "file_extension": ".py",
   "mimetype": "text/x-python",
   "name": "python",
   "nbconvert_exporter": "python",
   "pygments_lexer": "ipython3",
   "version": "3.8.10"
  },
  "orig_nbformat": 4,
  "vscode": {
   "interpreter": {
    "hash": "e7370f93d1d0cde622a1f8e1c04877d8463912d04d973331ad4851f04de6915a"
   }
  }
 },
 "nbformat": 4,
 "nbformat_minor": 2
}
